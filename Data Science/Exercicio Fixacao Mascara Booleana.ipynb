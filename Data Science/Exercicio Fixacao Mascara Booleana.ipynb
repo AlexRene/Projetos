{
 "cells": [
  {
   "cell_type": "code",
   "execution_count": 5,
   "id": "4e19e49f",
   "metadata": {},
   "outputs": [],
   "source": [
    "import numpy as np"
   ]
  },
  {
   "cell_type": "code",
   "execution_count": 6,
   "id": "68b6ad56",
   "metadata": {},
   "outputs": [],
   "source": [
    "notas = np.array([3.4, 5.0, 7.6, 9.8, 10.0, 4.7, 6.6])"
   ]
  },
  {
   "cell_type": "code",
   "execution_count": 7,
   "id": "d33367d8",
   "metadata": {},
   "outputs": [],
   "source": [
    "mask_aprovado = notas >= 8.0\n",
    "mask_recuperacao = notas < 8.0\n",
    "mask_reprovado = notas < 5.0"
   ]
  },
  {
   "cell_type": "code",
   "execution_count": 9,
   "id": "37b2b719",
   "metadata": {},
   "outputs": [
    {
     "name": "stdout",
     "output_type": "stream",
     "text": [
      "[False False False  True  True False False]\n",
      "[ True  True  True False False  True  True]\n",
      "[ True False False False False  True False]\n"
     ]
    }
   ],
   "source": [
    "print(mask_aprovado)\n",
    "print(mask_recuperacao)\n",
    "print(mask_reprovado)"
   ]
  },
  {
   "cell_type": "code",
   "execution_count": 11,
   "id": "3994b584",
   "metadata": {},
   "outputs": [
    {
     "name": "stdout",
     "output_type": "stream",
     "text": [
      "Media 0.2857142857142857\n",
      "Media 0.7142857142857143\n",
      "Media 0.2857142857142857\n"
     ]
    }
   ],
   "source": [
    "print(\"Media\", mask_aprovado.mean())\n",
    "print(\"Media\", mask_recuperacao.mean())\n",
    "print(\"Media\", mask_reprovado.mean())"
   ]
  },
  {
   "cell_type": "code",
   "execution_count": 13,
   "id": "563fa40a",
   "metadata": {},
   "outputs": [
    {
     "name": "stdout",
     "output_type": "stream",
     "text": [
      "Posicao Maior 3\n",
      "Posicao Maior 0\n",
      "Posicao Maior 0\n"
     ]
    }
   ],
   "source": [
    "print(\"Posicao Maior\", mask_aprovado.argmax())\n",
    "print(\"Posicao Maior\", mask_recuperacao.argmax())\n",
    "print(\"Posicao Maior\", mask_reprovado.argmax())"
   ]
  },
  {
   "cell_type": "code",
   "execution_count": null,
   "id": "ece77b70",
   "metadata": {},
   "outputs": [],
   "source": []
  }
 ],
 "metadata": {
  "kernelspec": {
   "display_name": "Python 3 (ipykernel)",
   "language": "python",
   "name": "python3"
  },
  "language_info": {
   "codemirror_mode": {
    "name": "ipython",
    "version": 3
   },
   "file_extension": ".py",
   "mimetype": "text/x-python",
   "name": "python",
   "nbconvert_exporter": "python",
   "pygments_lexer": "ipython3",
   "version": "3.11.3"
  }
 },
 "nbformat": 4,
 "nbformat_minor": 5
}
