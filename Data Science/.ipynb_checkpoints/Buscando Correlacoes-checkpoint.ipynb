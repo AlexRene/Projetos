{
 "cells": [
  {
   "cell_type": "code",
   "execution_count": 1,
   "id": "983d9f11",
   "metadata": {},
   "outputs": [
    {
     "name": "stderr",
     "output_type": "stream",
     "text": [
      "Matplotlib is building the font cache; this may take a moment.\n"
     ]
    }
   ],
   "source": [
    "import matplotlib.pyplot as plt\n",
    "import pandas as pd"
   ]
  },
  {
   "cell_type": "code",
   "execution_count": 2,
   "id": "0afe7a1d",
   "metadata": {},
   "outputs": [
    {
     "name": "stdout",
     "output_type": "stream",
     "text": [
      "Collecting seaborn\n",
      "  Downloading seaborn-0.13.2-py3-none-any.whl.metadata (5.4 kB)\n",
      "Requirement already satisfied: numpy!=1.24.0,>=1.20 in c:\\users\\alexr\\appdata\\local\\programs\\python\\python311\\lib\\site-packages (from seaborn) (1.26.0)\n",
      "Requirement already satisfied: pandas>=1.2 in c:\\users\\alexr\\appdata\\local\\programs\\python\\python311\\lib\\site-packages (from seaborn) (2.2.2)\n",
      "Requirement already satisfied: matplotlib!=3.6.1,>=3.4 in c:\\users\\alexr\\appdata\\local\\programs\\python\\python311\\lib\\site-packages (from seaborn) (3.9.0)\n",
      "Requirement already satisfied: contourpy>=1.0.1 in c:\\users\\alexr\\appdata\\local\\programs\\python\\python311\\lib\\site-packages (from matplotlib!=3.6.1,>=3.4->seaborn) (1.2.1)\n",
      "Requirement already satisfied: cycler>=0.10 in c:\\users\\alexr\\appdata\\local\\programs\\python\\python311\\lib\\site-packages (from matplotlib!=3.6.1,>=3.4->seaborn) (0.12.1)\n",
      "Requirement already satisfied: fonttools>=4.22.0 in c:\\users\\alexr\\appdata\\local\\programs\\python\\python311\\lib\\site-packages (from matplotlib!=3.6.1,>=3.4->seaborn) (4.53.0)\n",
      "Requirement already satisfied: kiwisolver>=1.3.1 in c:\\users\\alexr\\appdata\\local\\programs\\python\\python311\\lib\\site-packages (from matplotlib!=3.6.1,>=3.4->seaborn) (1.4.5)\n",
      "Requirement already satisfied: packaging>=20.0 in c:\\users\\alexr\\appdata\\local\\programs\\python\\python311\\lib\\site-packages (from matplotlib!=3.6.1,>=3.4->seaborn) (23.0)\n",
      "Requirement already satisfied: pillow>=8 in c:\\users\\alexr\\appdata\\local\\programs\\python\\python311\\lib\\site-packages (from matplotlib!=3.6.1,>=3.4->seaborn) (10.3.0)\n",
      "Requirement already satisfied: pyparsing>=2.3.1 in c:\\users\\alexr\\appdata\\local\\programs\\python\\python311\\lib\\site-packages (from matplotlib!=3.6.1,>=3.4->seaborn) (3.1.2)\n",
      "Requirement already satisfied: python-dateutil>=2.7 in c:\\users\\alexr\\appdata\\local\\programs\\python\\python311\\lib\\site-packages (from matplotlib!=3.6.1,>=3.4->seaborn) (2.8.2)\n",
      "Requirement already satisfied: pytz>=2020.1 in c:\\users\\alexr\\appdata\\local\\programs\\python\\python311\\lib\\site-packages (from pandas>=1.2->seaborn) (2022.7)\n",
      "Requirement already satisfied: tzdata>=2022.7 in c:\\users\\alexr\\appdata\\local\\programs\\python\\python311\\lib\\site-packages (from pandas>=1.2->seaborn) (2024.1)\n",
      "Requirement already satisfied: six>=1.5 in c:\\users\\alexr\\appdata\\local\\programs\\python\\python311\\lib\\site-packages (from python-dateutil>=2.7->matplotlib!=3.6.1,>=3.4->seaborn) (1.16.0)\n",
      "Downloading seaborn-0.13.2-py3-none-any.whl (294 kB)\n",
      "   ---------------------------------------- 0.0/294.9 kB ? eta -:--:--\n",
      "   ---------------------------------------- 0.0/294.9 kB ? eta -:--:--\n",
      "   ---------------------------------------- 0.0/294.9 kB ? eta -:--:--\n",
      "   ---------------------------------------- 0.0/294.9 kB ? eta -:--:--\n",
      "   ---------------------------------------- 0.0/294.9 kB ? eta -:--:--\n",
      "   ---------------------------------------- 0.0/294.9 kB ? eta -:--:--\n",
      "   ---------------------------------------- 0.0/294.9 kB ? eta -:--:--\n",
      "   ---------------------------------------- 0.0/294.9 kB ? eta -:--:--\n",
      "   - -------------------------------------- 10.2/294.9 kB ? eta -:--:--\n",
      "   - -------------------------------------- 10.2/294.9 kB ? eta -:--:--\n",
      "   - -------------------------------------- 10.2/294.9 kB ? eta -:--:--\n",
      "   - -------------------------------------- 10.2/294.9 kB ? eta -:--:--\n",
      "   - -------------------------------------- 10.2/294.9 kB ? eta -:--:--\n",
      "   - -------------------------------------- 10.2/294.9 kB ? eta -:--:--\n",
      "   - -------------------------------------- 10.2/294.9 kB ? eta -:--:--\n",
      "   - -------------------------------------- 10.2/294.9 kB ? eta -:--:--\n",
      "   - -------------------------------------- 10.2/294.9 kB ? eta -:--:--\n",
      "   - -------------------------------------- 10.2/294.9 kB ? eta -:--:--\n",
      "   - -------------------------------------- 10.2/294.9 kB ? eta -:--:--\n",
      "   - -------------------------------------- 10.2/294.9 kB ? eta -:--:--\n",
      "   - -------------------------------------- 10.2/294.9 kB ? eta -:--:--\n",
      "   ---- ----------------------------------- 30.7/294.9 kB 33.6 kB/s eta 0:00:08\n",
      "   ---- ----------------------------------- 30.7/294.9 kB 33.6 kB/s eta 0:00:08\n",
      "   ---- ----------------------------------- 30.7/294.9 kB 33.6 kB/s eta 0:00:08\n",
      "   ---- ----------------------------------- 30.7/294.9 kB 33.6 kB/s eta 0:00:08\n",
      "   ---- ----------------------------------- 30.7/294.9 kB 33.6 kB/s eta 0:00:08\n",
      "   ---- ----------------------------------- 30.7/294.9 kB 33.6 kB/s eta 0:00:08\n",
      "   ---- ----------------------------------- 30.7/294.9 kB 33.6 kB/s eta 0:00:08\n",
      "   ---- ----------------------------------- 30.7/294.9 kB 33.6 kB/s eta 0:00:08\n",
      "   ---- ----------------------------------- 30.7/294.9 kB 33.6 kB/s eta 0:00:08\n",
      "   ----- ---------------------------------- 41.0/294.9 kB 29.3 kB/s eta 0:00:09\n",
      "   ----- ---------------------------------- 41.0/294.9 kB 29.3 kB/s eta 0:00:09\n",
      "   ----- ---------------------------------- 41.0/294.9 kB 29.3 kB/s eta 0:00:09\n",
      "   ----- ---------------------------------- 41.0/294.9 kB 29.3 kB/s eta 0:00:09\n",
      "   ----- ---------------------------------- 41.0/294.9 kB 29.3 kB/s eta 0:00:09\n",
      "   ----- ---------------------------------- 41.0/294.9 kB 29.3 kB/s eta 0:00:09\n",
      "   ----- ---------------------------------- 41.0/294.9 kB 29.3 kB/s eta 0:00:09\n",
      "   ----- ---------------------------------- 41.0/294.9 kB 29.3 kB/s eta 0:00:09\n",
      "   ----- ---------------------------------- 41.0/294.9 kB 29.3 kB/s eta 0:00:09\n",
      "   ----- ---------------------------------- 41.0/294.9 kB 29.3 kB/s eta 0:00:09\n",
      "   ----- ---------------------------------- 41.0/294.9 kB 29.3 kB/s eta 0:00:09\n",
      "   ----- ---------------------------------- 41.0/294.9 kB 29.3 kB/s eta 0:00:09\n",
      "   -------- ------------------------------- 61.4/294.9 kB 32.4 kB/s eta 0:00:08\n",
      "   -------- ------------------------------- 61.4/294.9 kB 32.4 kB/s eta 0:00:08\n",
      "   -------- ------------------------------- 61.4/294.9 kB 32.4 kB/s eta 0:00:08\n",
      "   -------- ------------------------------- 61.4/294.9 kB 32.4 kB/s eta 0:00:08\n",
      "   -------- ------------------------------- 61.4/294.9 kB 32.4 kB/s eta 0:00:08\n",
      "   -------- ------------------------------- 61.4/294.9 kB 32.4 kB/s eta 0:00:08\n",
      "   -------- ------------------------------- 61.4/294.9 kB 32.4 kB/s eta 0:00:08\n",
      "   -------- ------------------------------- 61.4/294.9 kB 32.4 kB/s eta 0:00:08\n",
      "   -------- ------------------------------- 61.4/294.9 kB 32.4 kB/s eta 0:00:08\n",
      "   -------- ------------------------------- 61.4/294.9 kB 32.4 kB/s eta 0:00:08\n",
      "   -------- ------------------------------- 61.4/294.9 kB 32.4 kB/s eta 0:00:08\n",
      "   --------- ------------------------------ 71.7/294.9 kB 29.3 kB/s eta 0:00:08\n",
      "   --------- ------------------------------ 71.7/294.9 kB 29.3 kB/s eta 0:00:08\n",
      "   --------- ------------------------------ 71.7/294.9 kB 29.3 kB/s eta 0:00:08\n",
      "   --------- ------------------------------ 71.7/294.9 kB 29.3 kB/s eta 0:00:08\n",
      "   --------- ------------------------------ 71.7/294.9 kB 29.3 kB/s eta 0:00:08\n",
      "   ------------ --------------------------- 92.2/294.9 kB 35.2 kB/s eta 0:00:06\n",
      "   ------------ --------------------------- 92.2/294.9 kB 35.2 kB/s eta 0:00:06\n",
      "   ------------ --------------------------- 92.2/294.9 kB 35.2 kB/s eta 0:00:06\n",
      "   ------------ --------------------------- 92.2/294.9 kB 35.2 kB/s eta 0:00:06\n",
      "   ------------ --------------------------- 92.2/294.9 kB 35.2 kB/s eta 0:00:06\n",
      "   -------------- ------------------------ 112.6/294.9 kB 39.7 kB/s eta 0:00:05\n",
      "   -------------- ------------------------ 112.6/294.9 kB 39.7 kB/s eta 0:00:05\n",
      "   -------------- ------------------------ 112.6/294.9 kB 39.7 kB/s eta 0:00:05\n",
      "   -------------- ------------------------ 112.6/294.9 kB 39.7 kB/s eta 0:00:05\n",
      "   ---------------- ---------------------- 122.9/294.9 kB 40.5 kB/s eta 0:00:05\n",
      "   ---------------- ---------------------- 122.9/294.9 kB 40.5 kB/s eta 0:00:05\n",
      "   ---------------- ---------------------- 122.9/294.9 kB 40.5 kB/s eta 0:00:05\n",
      "   ---------------- ---------------------- 122.9/294.9 kB 40.5 kB/s eta 0:00:05\n",
      "   ---------------- ---------------------- 122.9/294.9 kB 40.5 kB/s eta 0:00:05\n",
      "   ---------------- ---------------------- 122.9/294.9 kB 40.5 kB/s eta 0:00:05\n",
      "   ---------------- ---------------------- 122.9/294.9 kB 40.5 kB/s eta 0:00:05\n",
      "   ------------------ -------------------- 143.4/294.9 kB 43.2 kB/s eta 0:00:04\n",
      "   ------------------ -------------------- 143.4/294.9 kB 43.2 kB/s eta 0:00:04\n",
      "   ------------------ -------------------- 143.4/294.9 kB 43.2 kB/s eta 0:00:04\n",
      "   ------------------ -------------------- 143.4/294.9 kB 43.2 kB/s eta 0:00:04\n",
      "   -------------------- ------------------ 153.6/294.9 kB 43.5 kB/s eta 0:00:04\n",
      "   -------------------- ------------------ 153.6/294.9 kB 43.5 kB/s eta 0:00:04\n",
      "   -------------------- ------------------ 153.6/294.9 kB 43.5 kB/s eta 0:00:04\n",
      "   -------------------- ------------------ 153.6/294.9 kB 43.5 kB/s eta 0:00:04\n",
      "   -------------------- ------------------ 153.6/294.9 kB 43.5 kB/s eta 0:00:04\n",
      "   -------------------- ------------------ 153.6/294.9 kB 43.5 kB/s eta 0:00:04\n",
      "   -------------------- ------------------ 153.6/294.9 kB 43.5 kB/s eta 0:00:04\n",
      "   ----------------------- --------------- 174.1/294.9 kB 45.6 kB/s eta 0:00:03\n",
      "   ----------------------- --------------- 174.1/294.9 kB 45.6 kB/s eta 0:00:03\n",
      "   ----------------------- --------------- 174.1/294.9 kB 45.6 kB/s eta 0:00:03\n",
      "   ----------------------- --------------- 174.1/294.9 kB 45.6 kB/s eta 0:00:03\n",
      "   ------------------------- ------------- 194.6/294.9 kB 48.7 kB/s eta 0:00:03\n",
      "   ------------------------- ------------- 194.6/294.9 kB 48.7 kB/s eta 0:00:03\n",
      "   ------------------------- ------------- 194.6/294.9 kB 48.7 kB/s eta 0:00:03\n",
      "   ------------------------- ------------- 194.6/294.9 kB 48.7 kB/s eta 0:00:03\n",
      "   --------------------------- ----------- 204.8/294.9 kB 48.8 kB/s eta 0:00:02\n",
      "   --------------------------- ----------- 204.8/294.9 kB 48.8 kB/s eta 0:00:02\n",
      "   --------------------------- ----------- 204.8/294.9 kB 48.8 kB/s eta 0:00:02\n",
      "   --------------------------- ----------- 204.8/294.9 kB 48.8 kB/s eta 0:00:02\n",
      "   --------------------------- ----------- 204.8/294.9 kB 48.8 kB/s eta 0:00:02\n",
      "   ----------------------------- --------- 225.3/294.9 kB 51.2 kB/s eta 0:00:02\n",
      "   ----------------------------- --------- 225.3/294.9 kB 51.2 kB/s eta 0:00:02\n",
      "   ----------------------------- --------- 225.3/294.9 kB 51.2 kB/s eta 0:00:02\n",
      "   ------------------------------- ------- 235.5/294.9 kB 51.7 kB/s eta 0:00:02\n",
      "   ------------------------------- ------- 235.5/294.9 kB 51.7 kB/s eta 0:00:02\n",
      "   ------------------------------- ------- 235.5/294.9 kB 51.7 kB/s eta 0:00:02\n",
      "   ------------------------------- ------- 235.5/294.9 kB 51.7 kB/s eta 0:00:02\n",
      "   --------------------------------- ----- 256.0/294.9 kB 54.2 kB/s eta 0:00:01\n",
      "   --------------------------------- ----- 256.0/294.9 kB 54.2 kB/s eta 0:00:01\n",
      "   --------------------------------- ----- 256.0/294.9 kB 54.2 kB/s eta 0:00:01\n",
      "   ------------------------------------ -- 276.5/294.9 kB 57.0 kB/s eta 0:00:01\n",
      "   ------------------------------------ -- 276.5/294.9 kB 57.0 kB/s eta 0:00:01\n",
      "   ------------------------------------ -- 276.5/294.9 kB 57.0 kB/s eta 0:00:01\n",
      "   ------------------------------------ -- 276.5/294.9 kB 57.0 kB/s eta 0:00:01\n",
      "   ------------------------------------ -- 276.5/294.9 kB 57.0 kB/s eta 0:00:01\n",
      "   --------------------------------------- 294.9/294.9 kB 57.6 kB/s eta 0:00:00\n",
      "Installing collected packages: seaborn\n",
      "Successfully installed seaborn-0.13.2\n"
     ]
    },
    {
     "name": "stderr",
     "output_type": "stream",
     "text": [
      "DEPRECATION: Loading egg at c:\\users\\alexr\\appdata\\local\\programs\\python\\python311\\lib\\site-packages\\vboxapi-1.0-py3.11.egg is deprecated. pip 24.3 will enforce this behaviour change. A possible replacement is to use pip for package installation.. Discussion can be found at https://github.com/pypa/pip/issues/12330\n"
     ]
    }
   ],
   "source": [
    "!pip install seaborn"
   ]
  },
  {
   "cell_type": "code",
   "execution_count": 3,
   "id": "b1eb5329",
   "metadata": {},
   "outputs": [],
   "source": [
    "import seaborn as sns"
   ]
  },
  {
   "cell_type": "code",
   "execution_count": 7,
   "id": "1571a981",
   "metadata": {},
   "outputs": [
    {
     "data": {
      "text/plain": [
       "['anagrams',\n",
       " 'anscombe',\n",
       " 'attention',\n",
       " 'brain_networks',\n",
       " 'car_crashes',\n",
       " 'diamonds',\n",
       " 'dots',\n",
       " 'dowjones',\n",
       " 'exercise',\n",
       " 'flights',\n",
       " 'fmri',\n",
       " 'geyser',\n",
       " 'glue',\n",
       " 'healthexp',\n",
       " 'iris',\n",
       " 'mpg',\n",
       " 'penguins',\n",
       " 'planets',\n",
       " 'seaice',\n",
       " 'taxis',\n",
       " 'tips',\n",
       " 'titanic']"
      ]
     },
     "execution_count": 7,
     "metadata": {},
     "output_type": "execute_result"
    }
   ],
   "source": [
    "sns.get_dataset_names()"
   ]
  },
  {
   "cell_type": "code",
   "execution_count": null,
   "id": "4bc41469",
   "metadata": {},
   "outputs": [],
   "source": []
  }
 ],
 "metadata": {
  "kernelspec": {
   "display_name": "Python 3 (ipykernel)",
   "language": "python",
   "name": "python3"
  },
  "language_info": {
   "codemirror_mode": {
    "name": "ipython",
    "version": 3
   },
   "file_extension": ".py",
   "mimetype": "text/x-python",
   "name": "python",
   "nbconvert_exporter": "python",
   "pygments_lexer": "ipython3",
   "version": "3.11.3"
  }
 },
 "nbformat": 4,
 "nbformat_minor": 5
}
