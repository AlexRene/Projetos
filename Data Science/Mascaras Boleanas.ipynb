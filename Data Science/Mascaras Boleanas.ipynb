{
 "cells": [
  {
   "cell_type": "code",
   "execution_count": 1,
   "id": "a3f8434d",
   "metadata": {},
   "outputs": [],
   "source": [
    "import numpy as np"
   ]
  },
  {
   "cell_type": "code",
   "execution_count": 6,
   "id": "baa27158",
   "metadata": {},
   "outputs": [
    {
     "name": "stdout",
     "output_type": "stream",
     "text": [
      "['Yes' 'No' 'No' 'Yes' 'Yes' 'No']\n"
     ]
    }
   ],
   "source": [
    "is_covid_positive = np.array([\"Yes\", \"No\", \"No\", \"Yes\", \"Yes\", \"No\"])\n",
    "print(is_covid_positive)"
   ]
  },
  {
   "cell_type": "code",
   "execution_count": 7,
   "id": "25a4ef23",
   "metadata": {},
   "outputs": [],
   "source": [
    "mask = is_covid_positive == \"Yes\""
   ]
  },
  {
   "cell_type": "code",
   "execution_count": 8,
   "id": "d7761d63",
   "metadata": {},
   "outputs": [
    {
     "name": "stdout",
     "output_type": "stream",
     "text": [
      "[ True False False  True  True False]\n"
     ]
    }
   ],
   "source": [
    "print(mask)"
   ]
  },
  {
   "cell_type": "code",
   "execution_count": 9,
   "id": "4c92d07f",
   "metadata": {},
   "outputs": [
    {
     "name": "stdout",
     "output_type": "stream",
     "text": [
      "['Yes' 'Yes' 'Yes']\n"
     ]
    }
   ],
   "source": [
    "print(is_covid_positive[mask])"
   ]
  },
  {
   "cell_type": "code",
   "execution_count": 11,
   "id": "a28c6c53",
   "metadata": {},
   "outputs": [],
   "source": [
    "is_covid_positive[mask] = 'C19'"
   ]
  },
  {
   "cell_type": "code",
   "execution_count": 12,
   "id": "4fc1eb6b",
   "metadata": {},
   "outputs": [
    {
     "name": "stdout",
     "output_type": "stream",
     "text": [
      "['C19' 'No' 'No' 'C19' 'C19' 'No']\n"
     ]
    }
   ],
   "source": [
    "print(is_covid_positive)"
   ]
  },
  {
   "cell_type": "code",
   "execution_count": 13,
   "id": "3f6342f5",
   "metadata": {},
   "outputs": [],
   "source": [
    "notas = np.array([4.9, 6.5, 3.2, 6.7])"
   ]
  },
  {
   "cell_type": "code",
   "execution_count": 15,
   "id": "917a8a4b",
   "metadata": {},
   "outputs": [],
   "source": [
    "mask_notas = notas >= 5"
   ]
  },
  {
   "cell_type": "code",
   "execution_count": 16,
   "id": "6e4876bd",
   "metadata": {},
   "outputs": [
    {
     "name": "stdout",
     "output_type": "stream",
     "text": [
      "[False  True False  True]\n"
     ]
    }
   ],
   "source": [
    "print(mask_notas)"
   ]
  }
 ],
 "metadata": {
  "kernelspec": {
   "display_name": "Python 3 (ipykernel)",
   "language": "python",
   "name": "python3"
  },
  "language_info": {
   "codemirror_mode": {
    "name": "ipython",
    "version": 3
   },
   "file_extension": ".py",
   "mimetype": "text/x-python",
   "name": "python",
   "nbconvert_exporter": "python",
   "pygments_lexer": "ipython3",
   "version": "3.11.3"
  }
 },
 "nbformat": 4,
 "nbformat_minor": 5
}
