{
 "cells": [
  {
   "cell_type": "code",
   "execution_count": 1,
   "id": "18a9b19f",
   "metadata": {},
   "outputs": [],
   "source": [
    "import pandas as pd"
   ]
  },
  {
   "cell_type": "code",
   "execution_count": 2,
   "id": "03a7eae0",
   "metadata": {},
   "outputs": [],
   "source": [
    "lista = [12, 23, 24, 50, 43]\n",
    "\n",
    "serie_pandas = pd.Series(lista)"
   ]
  },
  {
   "cell_type": "code",
   "execution_count": 3,
   "id": "6b95b245",
   "metadata": {},
   "outputs": [
    {
     "name": "stdout",
     "output_type": "stream",
     "text": [
      "0    12\n",
      "1    23\n",
      "2    24\n",
      "3    50\n",
      "4    43\n",
      "dtype: int64\n"
     ]
    }
   ],
   "source": [
    "print(serie_pandas)"
   ]
  },
  {
   "cell_type": "code",
   "execution_count": 4,
   "id": "affd61cd",
   "metadata": {},
   "outputs": [],
   "source": [
    "notas = {'Thiago': 9.8, 'Marcos': 6.8, 'Guilherme': 5.9}"
   ]
  },
  {
   "cell_type": "code",
   "execution_count": 5,
   "id": "14f5cf96",
   "metadata": {},
   "outputs": [],
   "source": [
    "serie_notas = pd.Series(notas)"
   ]
  },
  {
   "cell_type": "code",
   "execution_count": 9,
   "id": "8eaa0acf",
   "metadata": {},
   "outputs": [
    {
     "name": "stdout",
     "output_type": "stream",
     "text": [
      "Thiago       9.8\n",
      "Marcos       6.8\n",
      "Guilherme    5.9\n",
      "dtype: float64\n"
     ]
    }
   ],
   "source": [
    "print(serie_notas)"
   ]
  },
  {
   "cell_type": "code",
   "execution_count": 10,
   "id": "e5359787",
   "metadata": {},
   "outputs": [
    {
     "name": "stdout",
     "output_type": "stream",
     "text": [
      "count    3.000000\n",
      "mean     7.500000\n",
      "std      2.042058\n",
      "min      5.900000\n",
      "25%      6.350000\n",
      "50%      6.800000\n",
      "75%      8.300000\n",
      "max      9.800000\n",
      "dtype: float64\n"
     ]
    }
   ],
   "source": [
    "print(serie_notas.describe())"
   ]
  }
 ],
 "metadata": {
  "kernelspec": {
   "display_name": "Python 3 (ipykernel)",
   "language": "python",
   "name": "python3"
  },
  "language_info": {
   "codemirror_mode": {
    "name": "ipython",
    "version": 3
   },
   "file_extension": ".py",
   "mimetype": "text/x-python",
   "name": "python",
   "nbconvert_exporter": "python",
   "pygments_lexer": "ipython3",
   "version": "3.11.3"
  }
 },
 "nbformat": 4,
 "nbformat_minor": 5
}
