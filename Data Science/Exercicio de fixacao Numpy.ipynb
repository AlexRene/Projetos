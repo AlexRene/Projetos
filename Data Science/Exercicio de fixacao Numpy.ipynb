{
 "cells": [
  {
   "cell_type": "code",
   "execution_count": null,
   "id": "a0063de6",
   "metadata": {},
   "outputs": [],
   "source": [
    "## Criar uma lista de numeros e fazer algumas operacoes nela"
   ]
  },
  {
   "cell_type": "code",
   "execution_count": 1,
   "id": "c1405635",
   "metadata": {},
   "outputs": [],
   "source": [
    "import numpy as np"
   ]
  },
  {
   "cell_type": "code",
   "execution_count": 7,
   "id": "1b94ad50",
   "metadata": {},
   "outputs": [
    {
     "name": "stdout",
     "output_type": "stream",
     "text": [
      "Informe um numero:1\n",
      "Informe um numero:2\n",
      "Informe um numero:3\n",
      "Informe um numero:4\n",
      "Informe um numero:5\n",
      "Informe um numero:6\n",
      "Informe um numero:7\n",
      "Informe um numero:8\n",
      "Informe um numero:9\n",
      "Informe um numero:10\n",
      "Maior 10\n",
      "Menor 1\n",
      "Desvio Padrao 2.8722813232690143\n",
      "Posicao Menor 0\n",
      "Posicao Maior 9\n",
      "Media 5.5\n"
     ]
    }
   ],
   "source": [
    "lista = []\n",
    "\n",
    "for i in range(0,10):\n",
    "    a = int(input(\"Informe um numero:\"))\n",
    "    lista.append(a)\n",
    "\n",
    "lista_final = np.array(lista)  \n",
    "print(\"Maior\", lista_final.max())\n",
    "print(\"Menor\", lista_final.min())\n",
    "print(\"Desvio Padrao\", lista_final.std())\n",
    "print(\"Posicao Menor\", lista_final.argmin())\n",
    "print(\"Posicao Maior\", lista_final.argmax())\n",
    "print(\"Media\", lista_final.mean())"
   ]
  }
 ],
 "metadata": {
  "kernelspec": {
   "display_name": "Python 3 (ipykernel)",
   "language": "python",
   "name": "python3"
  },
  "language_info": {
   "codemirror_mode": {
    "name": "ipython",
    "version": 3
   },
   "file_extension": ".py",
   "mimetype": "text/x-python",
   "name": "python",
   "nbconvert_exporter": "python",
   "pygments_lexer": "ipython3",
   "version": "3.11.3"
  }
 },
 "nbformat": 4,
 "nbformat_minor": 5
}
